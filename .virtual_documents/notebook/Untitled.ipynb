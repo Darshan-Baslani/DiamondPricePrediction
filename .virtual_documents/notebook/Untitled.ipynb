import pandas as pd


df = pd.read_csv('data/gemstone.csv')
df.head()


df = df.drop('id', axis=1)
df = df.drop('x', axis=1)
df = df.drop('y', axis=1)
df = df.drop('z', axis=1)
df.head()


X = df.iloc[:, :-1]
y = df.iloc[:, -1:]


cat_features = df.columns[df.dtypes == 'object']
num_features = df.columns[df.dtypes != 'object']
cat_features, num_features



