





#for reading data
import pandas as pd


df = pd.read_csv('data/gemstone.csv')
df.head()





df.isnull().sum()


df.duplicated().sum()


df = df.drop_duplicates()
df.duplicated().sum()


#Droping the id column
df = df.iloc[:, 1:]
df.head()


df.info()





num_features = []
cat_features = []
for column in df.columns:
    if df[column].dtype == 'object':
        cat_features.append(column)
    else:
        num_features.append(column)



cat_features, num_features


import seaborn as sns
import matplotlib.pyplot as plt


plt.figure(figsize=(7,4))
for feature in num_features:
    sns.histplot(data=df, x=feature, kde=True)
    plt.show()


plt.figure(figsize=(7,4))
for feature in cat_features:
    sns.countplot(data=df, x=feature)
    plt.show()


sns.heatmap(data=df[num_features].corr(), annot=True)





df = df.drop(['x', 'y', 'z'], axis=1)
df.head()





df['cut'].unique()


cut_map = {"Fair":1, "Good":2, "Very Good":3, "Premium":4, "Ideal":5}


df['color'].unique()


color_map = {"J":1, "I":2, "H":3, "G":4, "F":5, "E":6, "D":7}


df['clarity'].unique()


clarity_map = {"I1":1,"SI2":2 ,"SI1":3 ,"VS2":4 , "VS1":5 , "VVS2":6 , "VVS1":7 ,"IF":8}


#mapping the data in dataframe
df['cut'] = df['cut'].map(cut_map)
df['color'] = df['color'].map(color_map)
df['clarity'] = df['clarity'].map(clarity_map)
df.head()



